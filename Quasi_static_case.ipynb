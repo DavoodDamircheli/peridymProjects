{
 "cells": [
  {
   "cell_type": "markdown",
   "id": "a0414572-048b-401e-a7a5-5d36b46ec880",
   "metadata": {},
   "source": [
    "## Quasi static peridynamic"
   ]
  },
  {
   "cell_type": "code",
   "execution_count": null,
   "id": "ebd2e2bf-3241-49ec-8d74-3cab4f7e0a12",
   "metadata": {},
   "outputs": [],
   "source": []
  }
 ],
 "metadata": {
  "kernelspec": {
   "display_name": "Python 3 (ipykernel)",
   "language": "python",
   "name": "python3"
  },
  "language_info": {
   "codemirror_mode": {
    "name": "ipython",
    "version": 3
   },
   "file_extension": ".py",
   "mimetype": "text/x-python",
   "name": "python",
   "nbconvert_exporter": "python",
   "pygments_lexer": "ipython3",
   "version": "3.12.3"
  }
 },
 "nbformat": 4,
 "nbformat_minor": 5
}
