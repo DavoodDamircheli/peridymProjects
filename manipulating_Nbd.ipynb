{
 "cells": [
  {
   "cell_type": "markdown",
   "id": "cba8e8f0-75fe-4ef5-ae91-d0e0a3677dbb",
   "metadata": {},
   "source": [
    "## Here we mainpulate the NbD\n",
    "- finding x-y\n",
    "- finding displacements u(x)-u(y)"
   ]
  },
  {
   "cell_type": "code",
   "execution_count": null,
   "id": "490120f7-a9b4-4419-affb-defff3468a10",
   "metadata": {},
   "outputs": [],
   "source": []
  }
 ],
 "metadata": {
  "kernelspec": {
   "display_name": "Python 3 (ipykernel)",
   "language": "python",
   "name": "python3"
  },
  "language_info": {
   "codemirror_mode": {
    "name": "ipython",
    "version": 3
   },
   "file_extension": ".py",
   "mimetype": "text/x-python",
   "name": "python",
   "nbconvert_exporter": "python",
   "pygments_lexer": "ipython3",
   "version": "3.12.3"
  }
 },
 "nbformat": 4,
 "nbformat_minor": 5
}
