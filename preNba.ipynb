{
 "cells": [
  {
   "cell_type": "markdown",
   "id": "4df8818f-6307-4d70-ba35-c69fbc15943d",
   "metadata": {},
   "source": [
    "## Nba"
   ]
  },
  {
   "cell_type": "markdown",
   "id": "1ce9d49d-fe86-4190-9e6b-2f3ebc0c2199",
   "metadata": {},
   "source": [
    "- each domain in 2D includes some points\n",
    "- each point like p has coordinates  p=(xp,yp)\n",
    "- squre domain, $X\\times Y=[0,1]\\times [0,1]$"
   ]
  },
  {
   "cell_type": "code",
   "execution_count": 1,
   "id": "3cd26089-572e-4572-91ec-2ffa32730f31",
   "metadata": {},
   "outputs": [],
   "source": [
    "import numpy as np"
   ]
  },
  {
   "cell_type": "code",
   "execution_count": 8,
   "id": "d24c2175-5370-4692-8140-e24244573283",
   "metadata": {},
   "outputs": [
    {
     "name": "stdout",
     "output_type": "stream",
     "text": [
      "[0.         0.11111111 0.22222222 0.33333333 0.44444444 0.55555556\n",
      " 0.66666667 0.77777778 0.88888889 1.        ]\n"
     ]
    }
   ],
   "source": [
    "x = np.linspace(0,1,10) \n",
    "y = np.linspace(0,1,10) \n",
    "print(x)"
   ]
  },
  {
   "cell_type": "code",
   "execution_count": 10,
   "id": "51b449f8-78d9-4c5f-9d07-75ed7ce43bb2",
   "metadata": {},
   "outputs": [
    {
     "name": "stdout",
     "output_type": "stream",
     "text": [
      "[[0. 0. 0. 0. 0. 0. 0. 0. 0. 0.]\n",
      " [0. 0. 0. 0. 0. 0. 0. 0. 0. 0.]\n",
      " [0. 0. 0. 0. 0. 0. 0. 0. 0. 0.]\n",
      " [0. 0. 0. 0. 0. 0. 0. 0. 0. 0.]\n",
      " [0. 0. 0. 0. 0. 0. 0. 0. 0. 0.]\n",
      " [0. 0. 0. 0. 0. 0. 0. 0. 0. 0.]\n",
      " [0. 0. 0. 0. 0. 0. 0. 0. 0. 0.]\n",
      " [0. 0. 0. 0. 0. 0. 0. 0. 0. 0.]\n",
      " [0. 0. 0. 0. 0. 0. 0. 0. 0. 0.]\n",
      " [0. 0. 0. 0. 0. 0. 0. 0. 0. 0.]]\n"
     ]
    }
   ],
   "source": [
    "M0 = np.zeros((10,10))\n",
    "\n",
    "print(M0)"
   ]
  },
  {
   "cell_type": "code",
   "execution_count": 12,
   "id": "cd411f33-7d91-4682-b355-045893604c41",
   "metadata": {},
   "outputs": [
    {
     "data": {
      "text/plain": [
       "np.float64(0.0)"
      ]
     },
     "execution_count": 12,
     "metadata": {},
     "output_type": "execute_result"
    }
   ],
   "source": [
    "M0[4,1]"
   ]
  },
  {
   "cell_type": "markdown",
   "id": "7efc18d3-620f-43f8-a580-980d7a649d33",
   "metadata": {},
   "source": [
    "neighboorhood array\n",
    "$B_{\\epsilon}(p)$ = if $norm(y-p)<\\epsilon$"
   ]
  },
  {
   "cell_type": "code",
   "execution_count": 13,
   "id": "b23fc033-1e76-447e-a257-17e55595f5e9",
   "metadata": {},
   "outputs": [
    {
     "ename": "NameError",
     "evalue": "name 'norm' is not defined",
     "output_type": "error",
     "traceback": [
      "\u001b[0;31m---------------------------------------------------------------------------\u001b[0m",
      "\u001b[0;31mNameError\u001b[0m                                 Traceback (most recent call last)",
      "Cell \u001b[0;32mIn[13], line 3\u001b[0m\n\u001b[1;32m      1\u001b[0m \u001b[38;5;28;01mfor\u001b[39;00m i \u001b[38;5;129;01min\u001b[39;00m \u001b[38;5;28mrange\u001b[39m(\u001b[38;5;241m10\u001b[39m):\n\u001b[1;32m      2\u001b[0m     \u001b[38;5;28;01mfor\u001b[39;00m j \u001b[38;5;129;01min\u001b[39;00m \u001b[38;5;28mrange\u001b[39m(\u001b[38;5;241m10\u001b[39m):\n\u001b[0;32m----> 3\u001b[0m         \u001b[38;5;28;01mif\u001b[39;00m \u001b[43mnorm\u001b[49m((Y[i,j]\u001b[38;5;241m-\u001b[39m(xp,yp)))\u001b[38;5;241m<\u001b[39meps:\n\u001b[1;32m      4\u001b[0m             Nba[p] \u001b[38;5;241m=\u001b[39m Y[i,j]\n",
      "\u001b[0;31mNameError\u001b[0m: name 'norm' is not defined"
     ]
    }
   ],
   "source": [
    "for i in range(10):\n",
    "    for j in range(10):\n",
    "        if norm((Y[i,j]-(xp,yp)))<eps:\n",
    "            Nba[p] = Y[i,j]"
   ]
  },
  {
   "cell_type": "markdown",
   "id": "095f0ef3-bc9c-40a0-9cfd-e777c60e564b",
   "metadata": {},
   "source": [
    "- each point has a two coordinates, toalnnots[p]=(xp,yp)\n",
    "\n",
    "- if we have 100 points in the domain, it means we 100 points!!\n",
    "\n",
    "- our Nba has 100 rows, but the colomn of Nbd are different "
   ]
  }
 ],
 "metadata": {
  "kernelspec": {
   "display_name": "Python 3 (ipykernel)",
   "language": "python",
   "name": "python3"
  },
  "language_info": {
   "codemirror_mode": {
    "name": "ipython",
    "version": 3
   },
   "file_extension": ".py",
   "mimetype": "text/x-python",
   "name": "python",
   "nbconvert_exporter": "python",
   "pygments_lexer": "ipython3",
   "version": "3.12.3"
  }
 },
 "nbformat": 4,
 "nbformat_minor": 5
}
